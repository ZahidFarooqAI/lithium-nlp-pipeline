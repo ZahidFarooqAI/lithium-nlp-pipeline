# Lithium NLP Pipeline Demo Notebook

import json
import pandas as pd
from src.lithium_nlp_pipeline import process_documents, results_to_dataframe

# Load sample text
with open("../data/sample_articles.txt", "r", encoding="utf-8") as f:
    docs = [{"id": f"doc_{i}", "text": t.strip()} for i, t in enumerate(f.read().split("\n\n")) if t.strip()]

# Run pipeline
results = process_documents(docs)
df = results_to_dataframe(results)

# Show results
df.head()
